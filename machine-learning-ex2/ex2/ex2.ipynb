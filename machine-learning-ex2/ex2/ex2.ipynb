{
 "cells": [
  {
   "cell_type": "markdown",
   "metadata": {},
   "source": [
    "# 1. Logistic regression\n",
    "\n",
    "For this exercise we will use student exam data to predict university admissions. The dataset consists of two exam scores for each student, and whether or not that student was admitted to the university."
   ]
  },
  {
   "cell_type": "code",
   "execution_count": 16,
   "metadata": {},
   "outputs": [
    {
     "name": "stdout",
     "output_type": "stream",
     "text": [
      "Exception reporting mode: Plain\n",
      "<class 'pandas.core.frame.DataFrame'>\n",
      "RangeIndex: 100 entries, 0 to 99\n",
      "Data columns (total 3 columns):\n",
      "Exam 1      100 non-null float64\n",
      "Exam 2      100 non-null float64\n",
      "Decision    100 non-null int64\n",
      "dtypes: float64(2), int64(1)\n",
      "memory usage: 2.4 KB\n"
     ]
    },
    {
     "data": {
      "text/plain": [
       "None"
      ]
     },
     "metadata": {},
     "output_type": "display_data"
    },
    {
     "data": {
      "text/html": [
       "<div>\n",
       "<style>\n",
       "    .dataframe thead tr:only-child th {\n",
       "        text-align: right;\n",
       "    }\n",
       "\n",
       "    .dataframe thead th {\n",
       "        text-align: left;\n",
       "    }\n",
       "\n",
       "    .dataframe tbody tr th {\n",
       "        vertical-align: top;\n",
       "    }\n",
       "</style>\n",
       "<table border=\"1\" class=\"dataframe\">\n",
       "  <thead>\n",
       "    <tr style=\"text-align: right;\">\n",
       "      <th></th>\n",
       "      <th>Exam 1</th>\n",
       "      <th>Exam 2</th>\n",
       "      <th>Decision</th>\n",
       "    </tr>\n",
       "  </thead>\n",
       "  <tbody>\n",
       "    <tr>\n",
       "      <th>0</th>\n",
       "      <td>34.623660</td>\n",
       "      <td>78.024693</td>\n",
       "      <td>0</td>\n",
       "    </tr>\n",
       "    <tr>\n",
       "      <th>1</th>\n",
       "      <td>30.286711</td>\n",
       "      <td>43.894998</td>\n",
       "      <td>0</td>\n",
       "    </tr>\n",
       "    <tr>\n",
       "      <th>2</th>\n",
       "      <td>35.847409</td>\n",
       "      <td>72.902198</td>\n",
       "      <td>0</td>\n",
       "    </tr>\n",
       "    <tr>\n",
       "      <th>3</th>\n",
       "      <td>60.182599</td>\n",
       "      <td>86.308552</td>\n",
       "      <td>1</td>\n",
       "    </tr>\n",
       "    <tr>\n",
       "      <th>4</th>\n",
       "      <td>79.032736</td>\n",
       "      <td>75.344376</td>\n",
       "      <td>1</td>\n",
       "    </tr>\n",
       "  </tbody>\n",
       "</table>\n",
       "</div>"
      ],
      "text/plain": [
       "      Exam 1     Exam 2  Decision\n",
       "0  34.623660  78.024693         0\n",
       "1  30.286711  43.894998         0\n",
       "2  35.847409  72.902198         0\n",
       "3  60.182599  86.308552         1\n",
       "4  79.032736  75.344376         1"
      ]
     },
     "execution_count": 16,
     "metadata": {},
     "output_type": "execute_result"
    }
   ],
   "source": [
    "%matplotlib inline\n",
    "%xmode plain\n",
    "\n",
    "import pandas as pd\n",
    "import numpy as np\n",
    "from matplotlib import pyplot as plt\n",
    "\n",
    "data1 = pd.read_csv('ex2data1.txt', header=None, names=['Exam 1', 'Exam 2', 'Decision'])\n",
    "display(data1.info())\n",
    "data1.head()"
   ]
  },
  {
   "cell_type": "markdown",
   "metadata": {},
   "source": [
    "## 1.1 Visualizing the data\n",
    "\n",
    "A scatter plot of the two independent variables indicates that there appears to be a decision boundary between the admitted and not admitted students."
   ]
  },
  {
   "cell_type": "code",
   "execution_count": 17,
   "metadata": {},
   "outputs": [
    {
     "data": {
      "image/png": "[encoded data removed]",
      "text/plain": [
       "<matplotlib.figure.Figure at 0x28c53ec5978>"
      ]
     },
     "metadata": {},
     "output_type": "display_data"
    }
   ],
   "source": [
    "admitted = data1[data1['Decision'] == 1]\n",
    "not_admitted = data1[data1['Decision'] == 0]\n",
    "\n",
    "plt.scatter(admitted['Exam 1'], admitted['Exam 2'], marker='+', label='Admitted')\n",
    "plt.scatter(not_admitted['Exam 1'], not_admitted['Exam 2'], label='Not Admitted')\n",
    "plt.xlabel('Exam 1')\n",
    "plt.ylabel('Exam 2')\n",
    "plt.legend();"
   ]
  },
  {
   "cell_type": "markdown",
   "metadata": {},
   "source": [
    "## 1.2 Implementation"
   ]
  },
  {
   "cell_type": "markdown",
   "metadata": {},
   "source": [
    "### 1.2.1 Warmup exercise: sigmoid function\n",
    "\n",
    "In this part of the exercise we implement the sigmoid function: $g(z) = \\frac{1}{1+e^{-z}}$"
   ]
  },
  {
   "cell_type": "code",
   "execution_count": 4,
   "metadata": {},
   "outputs": [
    {
     "data": {
      "text/html": [
       "<div>\n",
       "<style>\n",
       "    .dataframe thead tr:only-child th {\n",
       "        text-align: right;\n",
       "    }\n",
       "\n",
       "    .dataframe thead th {\n",
       "        text-align: left;\n",
       "    }\n",
       "\n",
       "    .dataframe tbody tr th {\n",
       "        vertical-align: top;\n",
       "    }\n",
       "</style>\n",
       "<table border=\"1\" class=\"dataframe\">\n",
       "  <thead>\n",
       "    <tr style=\"text-align: right;\">\n",
       "      <th></th>\n",
       "      <th>Expit</th>\n",
       "      <th>Sigmoid</th>\n",
       "    </tr>\n",
       "  </thead>\n",
       "  <tbody>\n",
       "    <tr>\n",
       "      <th>0</th>\n",
       "      <td>0.731059</td>\n",
       "      <td>0.731059</td>\n",
       "    </tr>\n",
       "    <tr>\n",
       "      <th>1</th>\n",
       "      <td>0.880797</td>\n",
       "      <td>0.880797</td>\n",
       "    </tr>\n",
       "    <tr>\n",
       "      <th>2</th>\n",
       "      <td>0.952574</td>\n",
       "      <td>0.952574</td>\n",
       "    </tr>\n",
       "    <tr>\n",
       "      <th>3</th>\n",
       "      <td>0.982014</td>\n",
       "      <td>0.982014</td>\n",
       "    </tr>\n",
       "    <tr>\n",
       "      <th>4</th>\n",
       "      <td>0.993307</td>\n",
       "      <td>0.993307</td>\n",
       "    </tr>\n",
       "    <tr>\n",
       "      <th>5</th>\n",
       "      <td>0.997527</td>\n",
       "      <td>0.997527</td>\n",
       "    </tr>\n",
       "    <tr>\n",
       "      <th>6</th>\n",
       "      <td>0.999089</td>\n",
       "      <td>0.999089</td>\n",
       "    </tr>\n",
       "    <tr>\n",
       "      <th>7</th>\n",
       "      <td>0.999665</td>\n",
       "      <td>0.999665</td>\n",
       "    </tr>\n",
       "    <tr>\n",
       "      <th>8</th>\n",
       "      <td>0.999877</td>\n",
       "      <td>0.999877</td>\n",
       "    </tr>\n",
       "    <tr>\n",
       "      <th>9</th>\n",
       "      <td>0.999955</td>\n",
       "      <td>0.999955</td>\n",
       "    </tr>\n",
       "  </tbody>\n",
       "</table>\n",
       "</div>"
      ],
      "text/plain": [
       "      Expit   Sigmoid\n",
       "0  0.731059  0.731059\n",
       "1  0.880797  0.880797\n",
       "2  0.952574  0.952574\n",
       "3  0.982014  0.982014\n",
       "4  0.993307  0.993307\n",
       "5  0.997527  0.997527\n",
       "6  0.999089  0.999089\n",
       "7  0.999665  0.999665\n",
       "8  0.999877  0.999877\n",
       "9  0.999955  0.999955"
      ]
     },
     "execution_count": 4,
     "metadata": {},
     "output_type": "execute_result"
    }
   ],
   "source": [
    "# I'll compare my implementation with scipy's\n",
    "from scipy.special import expit\n",
    "\n",
    "sigmoid = lambda z: 1 / (1 + np.exp(-z))\n",
    "\n",
    "values = np.linspace(1, 10, 10)\n",
    "    \n",
    "pd.DataFrame({\n",
    "    'Sigmoid': sigmoid(values),\n",
    "    'Expit': expit(values)\n",
    "})"
   ]
  },
  {
   "cell_type": "markdown",
   "metadata": {},
   "source": [
    "### 1.2.2 Cost function and gradient\n",
    "\n",
    "We start out by defining our features and targets."
   ]
  },
  {
   "cell_type": "code",
   "execution_count": 126,
   "metadata": {},
   "outputs": [
    {
     "data": {
      "text/plain": [
       "(100, 1)"
      ]
     },
     "execution_count": 126,
     "metadata": {},
     "output_type": "execute_result"
    }
   ],
   "source": [
    "m, n = data1[['Exam 1', 'Exam 2']].shape\n",
    "\n",
    "data1['Bias'] = np.ones(m)\n",
    "X = data1[['Bias', 'Exam 1', 'Exam 2']].values\n",
    "y = data1['Decision'].values.reshape(m, 1)\n",
    "\n",
    "initial_theta = np.zeros(n + 1).reshape(n + 1, 1)\n",
    "\n",
    "y.shape"
   ]
  },
  {
   "cell_type": "markdown",
   "metadata": {},
   "source": [
    "This is the cost function for logistic regression:\n",
    "\n",
    "$J(\\theta) = \\frac{1}{m} \\sum\\limits_{i=1}^{m}[-y^{(i)} \\log(h_{\\theta}(x^{(i)})) - (1 - y^{(i)}) \\log(1 - h_{\\theta}(x^{(i)}))]$\n",
    "\n",
    "This is the gradient for the cost function:\n",
    "\n",
    "$\\frac{\\partial J(\\theta)}{\\partial \\theta_{j}} = \\frac{1}{m} \\sum\\limits_{i=1}^{m}(h_{\\theta}(x^{(i)}) - y^{(i)}) x_{j}^{(i)}$"
   ]
  },
  {
   "cell_type": "code",
   "execution_count": 127,
   "metadata": {},
   "outputs": [
    {
     "name": "stdout",
     "output_type": "stream",
     "text": [
      "Cost at initial theta: 0.693\n"
     ]
    },
    {
     "data": {
      "text/plain": [
       "array([ -0.1       , -12.00921659, -11.26284221])"
      ]
     },
     "execution_count": 127,
     "metadata": {},
     "output_type": "execute_result"
    }
   ],
   "source": [
    "from numpy import log\n",
    "\n",
    "def cost_function(theta, X, y):\n",
    "    J = (1 / m) * (\n",
    "        -y * log(sigmoid(X @ theta)) - \n",
    "        (1 - y) * log((1 - sigmoid(X @ theta)))\n",
    "    ).sum()\n",
    "\n",
    "    grad = (1 / m) * ((sigmoid(X @ theta) - y) * X).sum(axis=0)\n",
    "    return J, grad\n",
    "\n",
    "J, grad = cost_function(initial_theta, X, y)\n",
    "print('Cost at initial theta: {:.3f}'.format(J))\n",
    "grad"
   ]
  },
  {
   "cell_type": "code",
   "execution_count": 8,
   "metadata": {},
   "outputs": [
    {
     "name": "stdout",
     "output_type": "stream",
     "text": [
      "Cost at test theta: 0.218\n"
     ]
    },
    {
     "data": {
      "text/plain": [
       "array([ 0.04290299,  2.56623412,  2.64679737])"
      ]
     },
     "execution_count": 8,
     "metadata": {},
     "output_type": "execute_result"
    }
   ],
   "source": [
    "test_theta = np.array([-24, 0.2, 0.2]).reshape(n + 1, 1)\n",
    "J, grad = cost_function(test_theta, X, y)\n",
    "print('Cost at test theta: {:.3f}'.format(J))\n",
    "grad"
   ]
  },
  {
   "cell_type": "markdown",
   "metadata": {},
   "source": [
    "### 1.2.3 Learning parameters using `minimize`\n",
    "\n",
    "Rather than implement gradient descent by hand as in the last exercise, we will use a more advanced optimization algorithm from the `scipy.optimize` package."
   ]
  },
  {
   "cell_type": "code",
   "execution_count": 11,
   "metadata": {},
   "outputs": [
    {
     "name": "stdout",
     "output_type": "stream",
     "text": [
      "Cost at theta found by minimize: 0.203\n"
     ]
    },
    {
     "name": "stderr",
     "output_type": "stream",
     "text": [
      "C:\\Users\\jack_000\\Anaconda3\\lib\\site-packages\\ipykernel_launcher.py:6: RuntimeWarning: divide by zero encountered in log\n",
      "  \n",
      "C:\\Users\\jack_000\\Anaconda3\\lib\\site-packages\\ipykernel_launcher.py:6: RuntimeWarning: invalid value encountered in multiply\n",
      "  \n"
     ]
    },
    {
     "data": {
      "text/plain": [
       "array([-25.16133284,   0.2062317 ,   0.2014716 ])"
      ]
     },
     "execution_count": 11,
     "metadata": {},
     "output_type": "execute_result"
    }
   ],
   "source": [
    "from scipy.optimize import minimize\n",
    "\n",
    "# Theta needs to be reshaped because minimize passes in a 1D array and cost_function expects a column vector\n",
    "# jac=True means that cost_function also returns the Jacobian matrix (gradient)\n",
    "res = minimize(lambda theta: cost_function(theta.reshape(n + 1, 1), X, y), initial_theta, jac=True)\n",
    "# Note that despite the scary divide-by-zero warning, the optimizer succeeds\n",
    "\n",
    "print(\"Cost at theta found by minimize: {:.3f}\".format(res.fun))\n",
    "res.x"
   ]
  },
  {
   "cell_type": "markdown",
   "metadata": {},
   "source": [
    "### 1.2.4 Evaluating logistic regression\n",
    "\n",
    "Plotting the decision boundary found by logistic regression against the original data gives us some intuition for how well the algorithm is doing at distinguishing between students who were admitted and students who weren't."
   ]
  },
  {
   "cell_type": "code",
   "execution_count": 19,
   "metadata": {},
   "outputs": [
    {
     "data": {
      "image/png": "[encoded data removed]",
      "text/plain": [
       "<matplotlib.figure.Figure at 0x28c561aea58>"
      ]
     },
     "metadata": {},
     "output_type": "display_data"
    }
   ],
   "source": [
    "theta = res.x\n",
    "\n",
    "x = X[:, 1]\n",
    "boundary = lambda x: (theta[0] + theta[1] * x) /  - theta[2]\n",
    "\n",
    "plt.scatter(admitted['Exam 1'], admitted['Exam 2'], marker='+', label='Admitted')\n",
    "plt.scatter(not_admitted['Exam 1'], not_admitted['Exam 2'], label='Not Admitted')\n",
    "plt.plot(x, boundary(x), color='black', label='Decision Boundary')\n",
    "plt.xlabel('Exam 1')\n",
    "plt.ylabel('Exam 2')\n",
    "plt.legend();"
   ]
  },
  {
   "cell_type": "markdown",
   "metadata": {},
   "source": [
    "Determine the probability that a particular test example is admitted."
   ]
  },
  {
   "cell_type": "code",
   "execution_count": 15,
   "metadata": {},
   "outputs": [
    {
     "name": "stdout",
     "output_type": "stream",
     "text": [
      "Probability is 0.776\n"
     ]
    }
   ],
   "source": [
    "p = sigmoid(np.array([1, 45, 85]) @ theta)\n",
    "print(\"Probability is {:.3f}\".format(p))"
   ]
  },
  {
   "cell_type": "markdown",
   "metadata": {},
   "source": [
    "To convert the probability to a prediction, we use a threshold of 0.5. The predictions made using this threshold ahve an accuracy of 89%."
   ]
  },
  {
   "cell_type": "code",
   "execution_count": 14,
   "metadata": {},
   "outputs": [
    {
     "data": {
      "text/plain": [
       "89"
      ]
     },
     "execution_count": 14,
     "metadata": {},
     "output_type": "execute_result"
    }
   ],
   "source": [
    "def predict(theta, X):\n",
    "    return sigmoid(X @ theta) > 0.5\n",
    "\n",
    "prediction = predict(theta, X)\n",
    "ground_truth = (y == True).flatten()\n",
    "np.sum(prediction == ground_truth)"
   ]
  },
  {
   "cell_type": "markdown",
   "metadata": {},
   "source": [
    "# 2. Regularized logistic regression\n",
    "\n",
    "For this part of the exercise we will use a dataset consisting of microchip performance on two QA tests, with a target of whether or not a given microchip should be accepted for distribution."
   ]
  },
  {
   "cell_type": "code",
   "execution_count": 20,
   "metadata": {},
   "outputs": [
    {
     "name": "stdout",
     "output_type": "stream",
     "text": [
      "<class 'pandas.core.frame.DataFrame'>\n",
      "RangeIndex: 118 entries, 0 to 117\n",
      "Data columns (total 3 columns):\n",
      "Test 1      118 non-null float64\n",
      "Test 2      118 non-null float64\n",
      "Accepted    118 non-null int64\n",
      "dtypes: float64(2), int64(1)\n",
      "memory usage: 2.8 KB\n"
     ]
    },
    {
     "data": {
      "text/plain": [
       "None"
      ]
     },
     "metadata": {},
     "output_type": "display_data"
    },
    {
     "data": {
      "text/html": [
       "<div>\n",
       "<style>\n",
       "    .dataframe thead tr:only-child th {\n",
       "        text-align: right;\n",
       "    }\n",
       "\n",
       "    .dataframe thead th {\n",
       "        text-align: left;\n",
       "    }\n",
       "\n",
       "    .dataframe tbody tr th {\n",
       "        vertical-align: top;\n",
       "    }\n",
       "</style>\n",
       "<table border=\"1\" class=\"dataframe\">\n",
       "  <thead>\n",
       "    <tr style=\"text-align: right;\">\n",
       "      <th></th>\n",
       "      <th>Test 1</th>\n",
       "      <th>Test 2</th>\n",
       "      <th>Accepted</th>\n",
       "    </tr>\n",
       "  </thead>\n",
       "  <tbody>\n",
       "    <tr>\n",
       "      <th>0</th>\n",
       "      <td>0.051267</td>\n",
       "      <td>0.69956</td>\n",
       "      <td>1</td>\n",
       "    </tr>\n",
       "    <tr>\n",
       "      <th>1</th>\n",
       "      <td>-0.092742</td>\n",
       "      <td>0.68494</td>\n",
       "      <td>1</td>\n",
       "    </tr>\n",
       "    <tr>\n",
       "      <th>2</th>\n",
       "      <td>-0.213710</td>\n",
       "      <td>0.69225</td>\n",
       "      <td>1</td>\n",
       "    </tr>\n",
       "    <tr>\n",
       "      <th>3</th>\n",
       "      <td>-0.375000</td>\n",
       "      <td>0.50219</td>\n",
       "      <td>1</td>\n",
       "    </tr>\n",
       "    <tr>\n",
       "      <th>4</th>\n",
       "      <td>-0.513250</td>\n",
       "      <td>0.46564</td>\n",
       "      <td>1</td>\n",
       "    </tr>\n",
       "  </tbody>\n",
       "</table>\n",
       "</div>"
      ],
      "text/plain": [
       "     Test 1   Test 2  Accepted\n",
       "0  0.051267  0.69956         1\n",
       "1 -0.092742  0.68494         1\n",
       "2 -0.213710  0.69225         1\n",
       "3 -0.375000  0.50219         1\n",
       "4 -0.513250  0.46564         1"
      ]
     },
     "execution_count": 20,
     "metadata": {},
     "output_type": "execute_result"
    }
   ],
   "source": [
    "data2 = pd.read_csv('ex2data2.txt', header=None, names=['Test 1', 'Test 2', 'Accepted'])\n",
    "display(data2.info())\n",
    "data2.head()"
   ]
  },
  {
   "cell_type": "markdown",
   "metadata": {},
   "source": [
    "## 2.1 Visualizing the data\n",
    "\n",
    "This time the scatter plot reveals a non-linear decision boundary."
   ]
  },
  {
   "cell_type": "code",
   "execution_count": 21,
   "metadata": {},
   "outputs": [
    {
     "data": {
      "image/png": "[encoded data removed]",
      "text/plain": [
       "<matplotlib.figure.Figure at 0x28c5726d7b8>"
      ]
     },
     "metadata": {},
     "output_type": "display_data"
    }
   ],
   "source": [
    "accepted = data2[data2['Accepted'] == 1]\n",
    "not_accepted = data2[data2['Accepted'] == 0]\n",
    "\n",
    "plt.scatter(accepted['Test 1'], accepted['Test 2'], marker='+', label='Accepted')\n",
    "plt.scatter(not_accepted['Test 1'], not_accepted['Test 2'], label='Not Accepted')\n",
    "plt.xlabel('Test 1')\n",
    "plt.ylabel('Test 2')\n",
    "plt.legend();"
   ]
  },
  {
   "cell_type": "markdown",
   "metadata": {},
   "source": [
    "## 2.2 Feature mapping\n",
    "\n",
    "In order to model the non-linear decision boundary, we will create new features for all terms in the sixth-order polynomial based on our two initial features."
   ]
  },
  {
   "cell_type": "code",
   "execution_count": 131,
   "metadata": {},
   "outputs": [],
   "source": [
    "order = 6\n",
    "exponents = []\n",
    "for i in range(0, order + 1):\n",
    "    for j in range(0, order + 1):\n",
    "        if i + j <= order:\n",
    "            exponents.append((i, j))\n",
    "\n",
    "X = np.ones((len(data2), len(terms)))\n",
    "for i, row in data2.iterrows():\n",
    "    for j, exponent in enumerate(exponents):\n",
    "        X[i, j] = row['Test 1'] ** exponent[0] * row['Test 2'] ** exponent[1]\n",
    "\n",
    "m, n = X.shape\n",
    "y = data2['Accepted'].values.reshape(m, 1)"
   ]
  },
  {
   "cell_type": "markdown",
   "metadata": {},
   "source": [
    "Note that there is also a class in scikit-learn to handle this."
   ]
  },
  {
   "cell_type": "code",
   "execution_count": 130,
   "metadata": {},
   "outputs": [
    {
     "data": {
      "text/plain": [
       "(118, 28)"
      ]
     },
     "execution_count": 130,
     "metadata": {},
     "output_type": "execute_result"
    }
   ],
   "source": [
    "from sklearn.preprocessing import PolynomialFeatures\n",
    "\n",
    "poly = PolynomialFeatures(6)\n",
    "t = poly.fit_transform(data2[['Test 1', 'Test 2']])\n",
    "t.shape"
   ]
  },
  {
   "cell_type": "markdown",
   "metadata": {},
   "source": [
    "## 2.3 Cost function and gradient\n",
    "\n",
    "In order to prevent overfitting, we add a regularization term which penalizes the cost function for large parameter values:\n",
    "\n",
    "$J(\\theta) = \\frac{1}{m} \\sum\\limits_{i=1}^{m}[-y^{(i)} \\log(h_{\\theta}(x^{(i)})) - (1 - y^{(i)}) \\log(1 - h_{\\theta}(x^{(i)}))] + \\frac{\\lambda}{2 m} \\sum\\limits_{j=1}^{n} \\theta_{j}^{2}$\n",
    "\n",
    "For $j = 0$ the gradient is unchanged, but for $j > 0$ the gradient becomes:\n",
    "\n",
    "$\\frac{\\partial J(\\theta)}{\\partial \\theta_{j}} = \\frac{1}{m} \\sum\\limits_{i=1}^{m}(h_{\\theta}(x^{(i)}) - y^{(i)}) x_{j}^{(i)} + \\frac{\\lambda}{m} \\theta_{j}$\n",
    "\n"
   ]
  },
  {
   "cell_type": "code",
   "execution_count": 141,
   "metadata": {},
   "outputs": [
    {
     "name": "stdout",
     "output_type": "stream",
     "text": [
      "Cost at initial theta: 0.693\n"
     ]
    },
    {
     "data": {
      "text/plain": [
       "array([  8.47457627e-03,   1.87880932e-02,   7.77711864e-05,\n",
       "         5.03446395e-02,   1.15013308e-02])"
      ]
     },
     "execution_count": 141,
     "metadata": {},
     "output_type": "execute_result"
    }
   ],
   "source": [
    "def cost_function_reg(theta, X, y, _lambda):\n",
    "    J = (1 / m) * (\n",
    "        -y * log(sigmoid(X @ theta)) - \n",
    "        (1 - y) * log((1 - sigmoid(X @ theta)))\n",
    "    ).sum() + (_lambda / (2 * m)) * (theta ** 2).sum()\n",
    "\n",
    "    grad = (1 / m) * ((sigmoid(X @ theta) - y) * X).sum(axis=0).reshape(n, 1) + \\\n",
    "           (_lambda / m) * theta\n",
    "    grad[0] = ((1 / m) * ((sigmoid(X @ theta) - y) * X).sum(axis=0))[0]\n",
    "    return J, grad.flatten() # minimize complains if grad is a column vector\n",
    "\n",
    "_lambda = 1\n",
    "initial_theta = np.zeros(n).reshape(n, 1)\n",
    "J, grad = cost_function_reg(initial_theta, t, y, _lambda)\n",
    "print('Cost at initial theta: {:.3f}'.format(J))\n",
    "grad[0:5]"
   ]
  },
  {
   "cell_type": "markdown",
   "metadata": {},
   "source": [
    "### 2.3.1 Learning parameters using `minimize`"
   ]
  },
  {
   "cell_type": "code",
   "execution_count": 142,
   "metadata": {},
   "outputs": [
    {
     "name": "stdout",
     "output_type": "stream",
     "text": [
      "Cost at theta found by minimize: 0.536\n"
     ]
    },
    {
     "data": {
      "text/plain": [
       "array([ 1.22936289,  0.63244485,  1.19453878, -1.974858  , -0.91081349])"
      ]
     },
     "execution_count": 142,
     "metadata": {},
     "output_type": "execute_result"
    }
   ],
   "source": [
    "res = minimize(lambda theta: cost_function_reg(theta.reshape(n, 1), t, y, _lambda), np.zeros(n), jac=True)\n",
    "\n",
    "print(\"Cost at theta found by minimize: {:.3f}\".format(res.fun))\n",
    "res.x[0:5]"
   ]
  },
  {
   "cell_type": "markdown",
   "metadata": {},
   "source": [
    "## 2.4 Plotting the decision boundary"
   ]
  },
  {
   "cell_type": "code",
   "execution_count": 143,
   "metadata": {},
   "outputs": [
    {
     "data": {
      "image/png": "[encoded data removed]",
      "text/plain": [
       "<matplotlib.figure.Figure at 0x28c57243668>"
      ]
     },
     "metadata": {},
     "output_type": "display_data"
    }
   ],
   "source": [
    "def plot_decision_boundary(res):\n",
    "    u = np.linspace(-1, 1.5, 50)\n",
    "    v = np.linspace(-1, 1.5, 50)\n",
    "    z = np.zeros(len(u) * len(v)).reshape(len(u), len(v))\n",
    "\n",
    "    theta = res.x\n",
    "\n",
    "    for i in range(len(u)):\n",
    "        for j in range(len(v)):\n",
    "            z[i, j] = poly.fit_transform(np.array([[u[i], v[j]]])) @ theta\n",
    "\n",
    "    plt.scatter(accepted['Test 1'], accepted['Test 2'], marker='+', label='Accepted')\n",
    "    plt.scatter(not_accepted['Test 1'], not_accepted['Test 2'], label='Not Accepted')\n",
    "    plt.contour(u, v, z.T, 0);\n",
    "    plt.xlabel('Test 1')\n",
    "    plt.ylabel('Test 2')\n",
    "    plt.legend();\n",
    "    \n",
    "plot_decision_boundary(res)"
   ]
  },
  {
   "cell_type": "markdown",
   "metadata": {},
   "source": [
    "## 2.5 Optional exercises"
   ]
  },
  {
   "cell_type": "markdown",
   "metadata": {},
   "source": [
    "First let's see what the decision boundary without regularization looks like (overfitting)."
   ]
  },
  {
   "cell_type": "code",
   "execution_count": 144,
   "metadata": {},
   "outputs": [
    {
     "data": {
      "image/png": "[encoded data removed]",
      "text/plain": [
       "<matplotlib.figure.Figure at 0x28c578a69b0>"
      ]
     },
     "metadata": {},
     "output_type": "display_data"
    }
   ],
   "source": [
    "_lambda = 0\n",
    "res = minimize(lambda theta: cost_function_reg(theta.reshape(n, 1), t, y, _lambda), np.zeros(n), jac=True)\n",
    "plot_decision_boundary(res)"
   ]
  },
  {
   "cell_type": "markdown",
   "metadata": {},
   "source": [
    "And now with too much regularization (underfitting)."
   ]
  },
  {
   "cell_type": "code",
   "execution_count": 145,
   "metadata": {},
   "outputs": [
    {
     "data": {
      "image/png": "[encoded data removed]",
      "text/plain": [
       "<matplotlib.figure.Figure at 0x28c578a6d68>"
      ]
     },
     "metadata": {},
     "output_type": "display_data"
    }
   ],
   "source": [
    "_lambda = 100\n",
    "res = minimize(lambda theta: cost_function_reg(theta.reshape(n, 1), t, y, _lambda), np.zeros(n), jac=True)\n",
    "plot_decision_boundary(res)"
   ]
  }
 ],
 "metadata": {
  "kernelspec": {
   "display_name": "Python 3",
   "language": "python",
   "name": "python3"
  },
  "language_info": {
   "codemirror_mode": {
    "name": "ipython",
    "version": 3
   },
   "file_extension": ".py",
   "mimetype": "text/x-python",
   "name": "python",
   "nbconvert_exporter": "python",
   "pygments_lexer": "ipython3",
   "version": "3.6.3"
  }
 },
 "nbformat": 4,
 "nbformat_minor": 2
}
